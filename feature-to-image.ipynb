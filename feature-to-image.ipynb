{
 "cells": [
  {
   "cell_type": "code",
   "execution_count": 191,
   "metadata": {
    "collapsed": false
   },
   "outputs": [],
   "source": [
    "import urllib.request\n",
    "import pandas\n",
    "import numpy as np\n",
    "import matplotlib.pyplot as plt\n",
    "import matplotlib.image as mpimg"
   ]
  },
  {
   "cell_type": "code",
   "execution_count": 192,
   "metadata": {
    "collapsed": true
   },
   "outputs": [],
   "source": [
    "def request_raytracer(file, sr, sc, wr, wc, roff, coff):\n",
    "    x = urllib.request.urlopen(\"http://localhost/r.html?f=%s&sc=%d&sr=%d&wr=%d&wc=%d&roff=%d&coff=%d\" % (file, sr, sc, wr, wc, roff, coff)).read()\n",
    "    return int(x)"
   ]
  },
  {
   "cell_type": "code",
   "execution_count": 193,
   "metadata": {
    "collapsed": false
   },
   "outputs": [],
   "source": [
    "d = request_raytracer('wood.txt', 100, 100, 50, 50, 0, 50)"
   ]
  },
  {
   "cell_type": "code",
   "execution_count": 194,
   "metadata": {
    "collapsed": false
   },
   "outputs": [],
   "source": [
    "cols = pandas.read_csv('raytracer-master/dynamic_%d.txt' % d)"
   ]
  },
  {
   "cell_type": "code",
   "execution_count": 195,
   "metadata": {
    "collapsed": false
   },
   "outputs": [
    {
     "data": {
      "text/html": [
       "<div>\n",
       "<table border=\"1\" class=\"dataframe\">\n",
       "  <thead>\n",
       "    <tr style=\"text-align: right;\">\n",
       "      <th></th>\n",
       "      <th>description</th>\n",
       "      <th>value</th>\n",
       "    </tr>\n",
       "  </thead>\n",
       "  <tbody>\n",
       "    <tr>\n",
       "      <th>51</th>\n",
       "      <td>shade</td>\n",
       "      <td>4657.0</td>\n",
       "    </tr>\n",
       "  </tbody>\n",
       "</table>\n",
       "</div>"
      ],
      "text/plain": [
       "   description   value\n",
       "51       shade  4657.0"
      ]
     },
     "execution_count": 195,
     "metadata": {},
     "output_type": "execute_result"
    }
   ],
   "source": [
    "cols.loc[cols['description'] == 'shade']"
   ]
  },
  {
   "cell_type": "code",
   "execution_count": 196,
   "metadata": {
    "collapsed": true
   },
   "outputs": [],
   "source": [
    "def run_raytracer(file, resolution=(100,100), grid=(20,20)):\n",
    "    mapping = {}\n",
    "    for roff in range(grid[0]):\n",
    "        for coff in range(grid[1]):\n",
    "            wr = resolution[0]/grid[0]\n",
    "            wc = resolution[1]/grid[1]\n",
    "            x = request_raytracer(file, resolution[0], resolution[1], wr, wc, wr*roff, wc*coff)\n",
    "            mapping[(roff, coff)] = x\n",
    "    return mapping"
   ]
  },
  {
   "cell_type": "code",
   "execution_count": 197,
   "metadata": {
    "collapsed": false
   },
   "outputs": [],
   "source": [
    "def get_statistics(feature, mapping, grid):\n",
    "    output = np.zeros(shape=(grid[1], grid[0]))\n",
    "    for key in mapping:\n",
    "        x = key[1]\n",
    "        y = grid[0] - key[0] - 1\n",
    "        cols = pandas.read_csv('raytracer-master/dynamic_%d.txt' % mapping[key])\n",
    "        searched = cols.loc[cols['description'] == feature]\n",
    "        if (len(searched) == 0):\n",
    "            value = 0\n",
    "        else:\n",
    "            value = searched['value']\n",
    "        \n",
    "        output[x, y] = value\n",
    "    return output.T"
   ]
  },
  {
   "cell_type": "code",
   "execution_count": 198,
   "metadata": {
    "collapsed": false
   },
   "outputs": [],
   "source": [
    "grid = (10,10)\n",
    "run_result = run_raytracer('test01.txt', (100,100), grid)\n"
   ]
  },
  {
   "cell_type": "code",
   "execution_count": 199,
   "metadata": {
    "collapsed": false,
    "scrolled": true
   },
   "outputs": [],
   "source": [
    "normalized_output_target = get_statistics('totalinstr', run_result, grid)\n",
    "normalized_output_method = get_statistics('shade', run_result, grid)"
   ]
  },
  {
   "cell_type": "code",
   "execution_count": 200,
   "metadata": {
    "collapsed": false
   },
   "outputs": [
    {
     "data": {
      "image/png": "[encoded data removed]",
      "text/plain": [
       "<matplotlib.figure.Figure at 0x7f973a072be0>"
      ]
     },
     "metadata": {},
     "output_type": "display_data"
    }
   ],
   "source": [
    "plt.subplot(1,3,1)\n",
    "plt.axis('off')\n",
    "imgplot = plt.imshow(normalized_output_target)\n",
    "plt.subplot(1,3,2)\n",
    "plt.axis('off')\n",
    "imgplot = plt.imshow(normalized_output_method)\n",
    "plt.subplot(1,3,3)\n",
    "plt.axis('off')\n",
    "img=mpimg.imread('test01final.bmp')/255\n",
    "plt.imshow(img)\n",
    "plt.show()"
   ]
  },
  {
   "cell_type": "code",
   "execution_count": 201,
   "metadata": {
    "collapsed": false
   },
   "outputs": [
    {
     "name": "stdout",
     "output_type": "stream",
     "text": [
      "max 488162.0\n",
      "min 233962.0\n",
      "average 362837.88\n"
     ]
    }
   ],
   "source": [
    "print('max', normalized_output_target.max())\n",
    "print('min', normalized_output_target.min())\n",
    "print('average', np.average(normalized_output_target))"
   ]
  },
  {
   "cell_type": "code",
   "execution_count": 202,
   "metadata": {
    "collapsed": false
   },
   "outputs": [],
   "source": [
    "grid = (10,10)\n",
    "run_result = run_raytracer('test02.txt', (100,100), grid)\n"
   ]
  },
  {
   "cell_type": "code",
   "execution_count": 203,
   "metadata": {
    "collapsed": false
   },
   "outputs": [],
   "source": [
    "normalized_output_target = get_statistics('totalinstr', run_result, grid)\n",
    "normalized_output_method = get_statistics('shade', run_result, grid)"
   ]
  },
  {
   "cell_type": "code",
   "execution_count": 204,
   "metadata": {
    "collapsed": false
   },
   "outputs": [
    {
     "data": {
      "image/png": "[encoded data removed]",
      "text/plain": [
       "<matplotlib.figure.Figure at 0x7f973a42d6a0>"
      ]
     },
     "metadata": {},
     "output_type": "display_data"
    }
   ],
   "source": [
    "plt.subplot(1,3,1)\n",
    "plt.axis('off')\n",
    "imgplot = plt.imshow(normalized_output_target)\n",
    "plt.subplot(1,3,2)\n",
    "plt.axis('off')\n",
    "imgplot = plt.imshow(normalized_output_method)\n",
    "plt.subplot(1,3,3)\n",
    "plt.axis('off')\n",
    "img=mpimg.imread('test02final.bmp')/255\n",
    "plt.imshow(img)\n",
    "plt.show()"
   ]
  },
  {
   "cell_type": "code",
   "execution_count": 205,
   "metadata": {
    "collapsed": false
   },
   "outputs": [
    {
     "name": "stdout",
     "output_type": "stream",
     "text": [
      "max 621385.0\n",
      "min 526737.0\n",
      "average 566325.94\n"
     ]
    }
   ],
   "source": [
    "print('max', normalized_output_target.max())\n",
    "print('min', normalized_output_target.min())\n",
    "print('average', np.average(normalized_output_target))"
   ]
  },
  {
   "cell_type": "code",
   "execution_count": 206,
   "metadata": {
    "collapsed": true
   },
   "outputs": [],
   "source": [
    "grid = (10,10)\n",
    "run_result = run_raytracer('test03.txt', (100,100), grid)"
   ]
  },
  {
   "cell_type": "code",
   "execution_count": 207,
   "metadata": {
    "collapsed": true
   },
   "outputs": [],
   "source": [
    "normalized_output_target = get_statistics('totalinstr', run_result, grid)\n",
    "normalized_output_method = get_statistics('shade', run_result, grid)"
   ]
  },
  {
   "cell_type": "code",
   "execution_count": 208,
   "metadata": {
    "collapsed": false
   },
   "outputs": [
    {
     "data": {
      "image/png": "[encoded data removed]",
      "text/plain": [
       "<matplotlib.figure.Figure at 0x7f9739923588>"
      ]
     },
     "metadata": {},
     "output_type": "display_data"
    }
   ],
   "source": [
    "plt.subplot(1,3,1)\n",
    "plt.axis('off')\n",
    "imgplot = plt.imshow(normalized_output_target)\n",
    "plt.subplot(1,3,2)\n",
    "plt.axis('off')\n",
    "imgplot = plt.imshow(normalized_output_method)\n",
    "plt.subplot(1,3,3)\n",
    "plt.axis('off')\n",
    "img=mpimg.imread('test03final.bmp')/255\n",
    "plt.imshow(img)\n",
    "plt.show()"
   ]
  },
  {
   "cell_type": "code",
   "execution_count": 209,
   "metadata": {
    "collapsed": false
   },
   "outputs": [
    {
     "name": "stdout",
     "output_type": "stream",
     "text": [
      "max 516573.0\n",
      "min 448307.0\n",
      "average 494688.77\n"
     ]
    }
   ],
   "source": [
    "print('max', normalized_output_target.max())\n",
    "print('min', normalized_output_target.min())\n",
    "print('average', np.average(normalized_output_target))"
   ]
  },
  {
   "cell_type": "code",
   "execution_count": 210,
   "metadata": {
    "collapsed": true
   },
   "outputs": [],
   "source": [
    "grid = (10,10)\n",
    "run_result = run_raytracer('test04.txt', (100,100), grid)"
   ]
  },
  {
   "cell_type": "code",
   "execution_count": 211,
   "metadata": {
    "collapsed": true
   },
   "outputs": [],
   "source": [
    "normalized_output_target = get_statistics('totalinstr', run_result, grid)\n",
    "normalized_output_method = get_statistics('shade', run_result, grid)"
   ]
  },
  {
   "cell_type": "code",
   "execution_count": 212,
   "metadata": {
    "collapsed": false
   },
   "outputs": [
    {
     "data": {
      "image/png": "[encoded data removed]",
      "text/plain": [
       "<matplotlib.figure.Figure at 0x7f973a058f28>"
      ]
     },
     "metadata": {},
     "output_type": "display_data"
    }
   ],
   "source": [
    "plt.subplot(1,3,1)\n",
    "plt.axis('off')\n",
    "imgplot = plt.imshow(normalized_output_target)\n",
    "plt.subplot(1,3,2)\n",
    "plt.axis('off')\n",
    "imgplot = plt.imshow(normalized_output_method)\n",
    "plt.subplot(1,3,3)\n",
    "plt.axis('off')\n",
    "img=mpimg.imread('test04final.bmp')/255\n",
    "plt.imshow(img)\n",
    "plt.show()"
   ]
  },
  {
   "cell_type": "code",
   "execution_count": 213,
   "metadata": {
    "collapsed": false
   },
   "outputs": [
    {
     "name": "stdout",
     "output_type": "stream",
     "text": [
      "max 4440400.0\n",
      "min 849687.0\n",
      "average 1806952.99\n"
     ]
    }
   ],
   "source": [
    "print('max', normalized_output_target.max())\n",
    "print('min', normalized_output_target.min())\n",
    "print('average', np.average(normalized_output_target))"
   ]
  },
  {
   "cell_type": "code",
   "execution_count": 214,
   "metadata": {
    "collapsed": true
   },
   "outputs": [],
   "source": [
    "grid = (10,10)\n",
    "run_result = run_raytracer('test05.txt', (100,100), grid)"
   ]
  },
  {
   "cell_type": "code",
   "execution_count": 215,
   "metadata": {
    "collapsed": true
   },
   "outputs": [],
   "source": [
    "normalized_output_target = get_statistics('totalinstr', run_result, grid)\n",
    "normalized_output_method = get_statistics('shade', run_result, grid)"
   ]
  },
  {
   "cell_type": "code",
   "execution_count": 216,
   "metadata": {
    "collapsed": false
   },
   "outputs": [
    {
     "data": {
      "image/png": "[encoded data removed]",
      "text/plain": [
       "<matplotlib.figure.Figure at 0x7f973990d908>"
      ]
     },
     "metadata": {},
     "output_type": "display_data"
    }
   ],
   "source": [
    "plt.subplot(1,3,1)\n",
    "plt.axis('off')\n",
    "imgplot = plt.imshow(normalized_output_target)\n",
    "plt.subplot(1,3,2)\n",
    "plt.axis('off')\n",
    "imgplot = plt.imshow(normalized_output_method)\n",
    "plt.subplot(1,3,3)\n",
    "plt.axis('off')\n",
    "img=mpimg.imread('test05final.bmp')/255\n",
    "plt.imshow(img)\n",
    "plt.show()"
   ]
  },
  {
   "cell_type": "code",
   "execution_count": 217,
   "metadata": {
    "collapsed": false
   },
   "outputs": [
    {
     "name": "stdout",
     "output_type": "stream",
     "text": [
      "max 1590735.0\n",
      "min 530834.0\n",
      "average 898153.59\n"
     ]
    }
   ],
   "source": [
    "print('max', normalized_output_target.max())\n",
    "print('min', normalized_output_target.min())\n",
    "print('average', np.average(normalized_output_target))"
   ]
  },
  {
   "cell_type": "code",
   "execution_count": 218,
   "metadata": {
    "collapsed": true
   },
   "outputs": [],
   "source": [
    "grid = (10,10)\n",
    "run_result = run_raytracer('test-texmap.txt', (100,100), grid)"
   ]
  },
  {
   "cell_type": "code",
   "execution_count": 219,
   "metadata": {
    "collapsed": true
   },
   "outputs": [],
   "source": [
    "normalized_output_target = get_statistics('totalinstr', run_result, grid)\n",
    "normalized_output_method = get_statistics('shade', run_result, grid)"
   ]
  },
  {
   "cell_type": "code",
   "execution_count": 220,
   "metadata": {
    "collapsed": false
   },
   "outputs": [
    {
     "data": {
      "image/png": "[encoded data removed]",
      "text/plain": [
       "<matplotlib.figure.Figure at 0x7f973983f8d0>"
      ]
     },
     "metadata": {},
     "output_type": "display_data"
    }
   ],
   "source": [
    "plt.subplot(1,3,1)\n",
    "imgplot = plt.imshow(normalized_output_target)\n",
    "plt.axis('off')\n",
    "plt.subplot(1,3,2)\n",
    "imgplot = plt.imshow(normalized_output_method)\n",
    "plt.axis('off')\n",
    "plt.subplot(1,3,3)\n",
    "img=mpimg.imread('texmapfinal.bmp')/255\n",
    "plt.imshow(img)\n",
    "plt.axis('off')\n",
    "plt.show()"
   ]
  },
  {
   "cell_type": "code",
   "execution_count": 221,
   "metadata": {
    "collapsed": false
   },
   "outputs": [
    {
     "name": "stdout",
     "output_type": "stream",
     "text": [
      "max 3373819.0\n",
      "min 692087.0\n",
      "average 1436619.68\n"
     ]
    }
   ],
   "source": [
    "print('max', normalized_output_target.max())\n",
    "print('min', normalized_output_target.min())\n",
    "print('average', np.average(normalized_output_target))"
   ]
  },
  {
   "cell_type": "code",
   "execution_count": null,
   "metadata": {
    "collapsed": true
   },
   "outputs": [],
   "source": []
  }
 ],
 "metadata": {
  "kernelspec": {
   "display_name": "Python 3",
   "language": "python",
   "name": "python3"
  },
  "language_info": {
   "codemirror_mode": {
    "name": "ipython",
    "version": 3
   },
   "file_extension": ".py",
   "mimetype": "text/x-python",
   "name": "python",
   "nbconvert_exporter": "python",
   "pygments_lexer": "ipython3",
   "version": "3.5.2"
  }
 },
 "nbformat": 4,
 "nbformat_minor": 2
}
